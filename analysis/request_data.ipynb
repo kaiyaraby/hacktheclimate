{
 "cells": [
  {
   "cell_type": "code",
   "execution_count": 28,
   "metadata": {},
   "outputs": [],
   "source": [
    "import os\n",
    "from dotenv import load_dotenv\n",
    "from tools.VCL_query_timeseries import timeseries_query\n",
    "from tools.VCL_query_timeseries_area import timeseries_area_query\n",
    "from tools.VCL_get_query_status import get_query_status\n",
    "from tools.VCL_get_query_result import get_query_result\n",
    "from tools.VCL_query_aggregation import construct_aggregation_dict, aggregation_query\n",
    "from json import JSONDecodeError\n",
    "from time import sleep\n",
    "import pandas as pd\n",
    "\n",
    "load_dotenv()\n",
    "api_key = os.environ[\"API_SECRET_KEY\"]\n"
   ]
  },
  {
   "cell_type": "code",
   "execution_count": 90,
   "metadata": {},
   "outputs": [],
   "source": [
    "stuff = get_query_result(\"53fcc1fa-f966-4bba-8770-a282f43ebff6\", api_key, 10000000, 1)\n",
    "stuff = stuff.json()"
   ]
  },
  {
   "cell_type": "code",
   "execution_count": 91,
   "metadata": {},
   "outputs": [
    {
     "data": {
      "text/plain": [
       "5720280"
      ]
     },
     "execution_count": 91,
     "metadata": {},
     "output_type": "execute_result"
    }
   ],
   "source": [
    "len(stuff)"
   ]
  },
  {
   "cell_type": "code",
   "execution_count": 92,
   "metadata": {},
   "outputs": [],
   "source": [
    "import pandas as pd\n",
    "df = pd.DataFrame.from_records(stuff, index=range(len(stuff)))\n",
    "\n",
    "df.to_csv(f\"area_wind_speed_data_bigger5.csv\", mode=\"a\", index=False)"
   ]
  },
  {
   "cell_type": "code",
   "execution_count": 5,
   "metadata": {},
   "outputs": [
    {
     "name": "stdout",
     "output_type": "stream",
     "text": [
      "Aggregation Query: \n",
      "Timeseries Area Query: \n",
      "{'queryId': '1ad06c41-c651-4919-8750-7ab159018207'}\n"
     ]
    }
   ],
   "source": [
    "### AGGREGATION QUERY\n",
    "min_longitude = -4.4454\n",
    "max_longitude = 12.0059\n",
    "min_latitude = 53.9954\n",
    "max_latitude = 56.9954\n",
    "start_date = \"20120101\"\n",
    "end_date = \"20121231\"\n",
    "agg_functions = [\"AVG\", \"MAX\", \"MIN\", \"SD\"] # At least one function is required\n",
    "\n",
    "vars_3d = [\"xland\"]\n",
    "vars_4d = [\"wsp\"]\n",
    "heights = [150] \n",
    "aggregation = construct_aggregation_dict(agg_functions, vars_3d, vars_4d, heights)\n",
    "\n",
    "response = aggregation_query(min_longitude, max_longitude, min_latitude, max_latitude, start_date, end_date, aggregation, api_key)\n",
    "print(\"Aggregation Query: \")\n",
    "try:\n",
    "    response_json = response.json()\n",
    "    print(response_json)\n",
    "except JSONDecodeError:\n",
    "    print(\"error:\", end=\"\\t\")\n",
    "    print(response.text)"
   ]
  },
  {
   "cell_type": "code",
   "execution_count": null,
   "metadata": {},
   "outputs": [],
   "source": [
    "# 2022\n",
    "# min_latitude = 50.9954, max_latitude = 53.9954\n",
    "# {'queryId': '6a117fc4-030a-4584-8a3b-485d28f520ee'}\n",
    "# min_latitude = 53.9954, max_latitude = 56.9954\n",
    "# {'queryId': 'fee7d638-2254-412f-9cd0-60a9576c184a'}\n",
    "\n",
    "# 2012\n",
    "# min_latitude = 50.9954, max_latitude = 53.9954\n",
    "# {'queryId': '0fcc4e59-bf75-4cd0-a52c-2ed46ddad3a0'}\n",
    "# min_latitude = 53.9954, max_latitude = 56.9954\n",
    "# {'queryId': '1ad06c41-c651-4919-8750-7ab159018207'}"
   ]
  },
  {
   "cell_type": "code",
   "execution_count": 23,
   "metadata": {},
   "outputs": [
    {
     "name": "stdout",
     "output_type": "stream",
     "text": [
      "Point Query: \n",
      "{'queryId': 'b90b21cd-2035-4148-a359-99a867988a3f'}\n"
     ]
    }
   ],
   "source": [
    "###########\n",
    "#### POINT REQUEST\n",
    "##########\n",
    "\n",
    "latitude = 53.62\n",
    "longitude = 4.42\n",
    "start_date = \"2012-01-01\"\n",
    "end_date = \"2022-12-31\"\n",
    "vars_4d = [\"wsp\",\"wdir\", \"rho\"] # Can be empty []\n",
    "vars_3d = [\"xland\"]\n",
    "heights = [150] # Must not be empty if vars_4d is not empty\n",
    "\n",
    "\n",
    "response = timeseries_query(latitude, longitude, start_date, end_date, vars_4d, vars_3d, heights, api_key)\n",
    "try:\n",
    "    response_json = response.json()\n",
    "    query_id = response_json[\"queryId\"]\n",
    "    print(\"Point Query: \")\n",
    "    print(response_json)\n",
    "except JSONDecodeError:\n",
    "    print(\"error:\")\n",
    "    print(response.text)"
   ]
  },
  {
   "cell_type": "markdown",
   "metadata": {},
   "source": [
    "# Area Queries\n",
    "\n",
    "min_longitude = 0.98<br>\n",
    "max_longitude = 4.2<br>\n",
    "latitudes from 51.05 until 54.8\n",
    "\n",
    "min_longitude = -1.5<br>\n",
    "max_longitude = 0.98<br>\n",
    "latitudes from 51.05 until 54.8\n",
    "\n",
    "min_longitude = 4.2<br>\n",
    "max_longitude = 8.2<br>\n",
    "latitudes from 51.05 until 54.8"
   ]
  },
  {
   "cell_type": "code",
   "execution_count": 108,
   "metadata": {},
   "outputs": [
    {
     "name": "stdout",
     "output_type": "stream",
     "text": [
      "min_latitude=51.349999999999994, max_latitude=51.64999999999999 - {'queryId': 'f3d13c39-bd0e-4c88-bc63-c3ea350c4e8a'}\n",
      "min_latitude=51.64999999999999, max_latitude=51.94999999999999 - {'queryId': 'd5cc0dd5-ebfb-45b5-89c4-05e974eb1b43'}\n",
      "min_latitude=51.94999999999999, max_latitude=52.249999999999986 - {'queryId': '5505432a-9928-42df-8cbf-0b2e0af50c57'}\n",
      "min_latitude=52.249999999999986, max_latitude=52.54999999999998 - {'queryId': '003654b0-99e2-4610-9ee2-582a292fafe5'}\n",
      "min_latitude=52.54999999999998, max_latitude=52.84999999999998 - {'queryId': '2a64cb08-05dc-4628-b227-20041b10ddce'}\n",
      "error:\n",
      "Request limit is reached.\n"
     ]
    },
    {
     "ename": "KeyboardInterrupt",
     "evalue": "",
     "output_type": "error",
     "traceback": [
      "\u001b[0;31m---------------------------------------------------------------------------\u001b[0m",
      "\u001b[0;31mKeyboardInterrupt\u001b[0m                         Traceback (most recent call last)",
      "Cell \u001b[0;32mIn[108], line 43\u001b[0m\n\u001b[1;32m     41\u001b[0m \u001b[38;5;28;01mif\u001b[39;00m max_latitude \u001b[38;5;241m>\u001b[39m\u001b[38;5;241m=\u001b[39m to_lat:\n\u001b[1;32m     42\u001b[0m     \u001b[38;5;28;01mbreak\u001b[39;00m\n\u001b[0;32m---> 43\u001b[0m \u001b[43msleep\u001b[49m\u001b[43m(\u001b[49m\u001b[38;5;241;43m60\u001b[39;49m\u001b[43m)\u001b[49m\n",
      "\u001b[0;31mKeyboardInterrupt\u001b[0m: "
     ]
    }
   ],
   "source": [
    "###########\n",
    "#### AREA REQUEST\n",
    "##########\n",
    "\n",
    "min_longitude = 4.2\n",
    "max_longitude = 8.2\n",
    "\n",
    "start_date = \"20220101\"\n",
    "end_date = \"20221231\"\n",
    "vars_4d = [\"wsp\",\"rho\"]\n",
    "vars_3d = [\"xland\"]\n",
    "heights = [150]\n",
    "\n",
    "\n",
    "max_step_size = 0.3\n",
    "from_lat = 51.349999999999994\n",
    "to_lat = 54.8\n",
    "min_latitude, max_latitude = from_lat, min(to_lat, from_lat + max_step_size)\n",
    "\n",
    "# query_list = []\n",
    "\n",
    "while True:\n",
    "    response = timeseries_area_query(min_longitude, max_longitude, min_latitude, max_latitude, start_date, end_date, vars_4d, vars_3d, heights, api_key)\n",
    "    try:\n",
    "        response_json = response.json()\n",
    "    except JSONDecodeError:\n",
    "        print(\"error:\")\n",
    "        print(response.text)\n",
    "    else:\n",
    "        print(f\"{min_latitude=}, {max_latitude=} - {response_json}\")\n",
    "        min_latitude = max_latitude\n",
    "        max_latitude = min(to_lat, max_latitude + max_step_size)\n",
    "        query_list.append({\n",
    "            \"query_id\": response_json[\"queryId\"],\n",
    "            \"min_latitude\": min_latitude,\n",
    "            \"max_latitude\": max_latitude,\n",
    "        })\n",
    "        \n",
    "        \n",
    "    \n",
    "    if max_latitude >= to_lat:\n",
    "        break\n",
    "    sleep(60)\n",
    "\n"
   ]
  },
  {
   "cell_type": "code",
   "execution_count": 109,
   "metadata": {},
   "outputs": [
    {
     "data": {
      "text/plain": [
       "[{'query_id': '6c6326c3-387d-463d-8252-dff6c301beee',\n",
       "  'min_latitude': 51.3,\n",
       "  'max_latitude': 51.3},\n",
       " {'query_id': 'e04efd37-0e53-4de4-a20d-22bbea2028b4',\n",
       "  'min_latitude': 51.3,\n",
       "  'max_latitude': 51.55},\n",
       " {'query_id': '554cdede-4274-406b-ae79-1316b2894adc',\n",
       "  'min_latitude': 51.55,\n",
       "  'max_latitude': 51.8},\n",
       " {'query_id': '9f2401c9-614d-4922-b73e-024fbefea181',\n",
       "  'min_latitude': 51.8,\n",
       "  'max_latitude': 52.05},\n",
       " {'query_id': 'cfa84291-0ca1-4ca7-88a4-b50f7b4f7072',\n",
       "  'min_latitude': 52.05,\n",
       "  'max_latitude': 52.3},\n",
       " {'query_id': '8f67e7eb-82a0-4220-9bf6-971aa22e171b',\n",
       "  'min_latitude': 52.3,\n",
       "  'max_latitude': 52.55},\n",
       " {'query_id': '13238ed3-bda1-45fd-a05c-2824320c1751',\n",
       "  'min_latitude': 52.599999999999994,\n",
       "  'max_latitude': 52.89999999999999},\n",
       " {'query_id': '1a3ba5a6-e121-4043-8bae-8e3e5bbe8bfe',\n",
       "  'min_latitude': 52.89999999999999,\n",
       "  'max_latitude': 53.19999999999999},\n",
       " {'query_id': '8ebc6013-4fb5-4ba1-9c66-5a589d4f5425',\n",
       "  'min_latitude': 53.19999999999999,\n",
       "  'max_latitude': 53.499999999999986},\n",
       " {'query_id': '9a539e9e-649f-4953-a426-43fa66dd1ade',\n",
       "  'min_latitude': 53.499999999999986,\n",
       "  'max_latitude': 53.79999999999998},\n",
       " {'query_id': '7a15f3e2-f662-4ca4-b667-82f4ec66d051',\n",
       "  'min_latitude': 53.79999999999998,\n",
       "  'max_latitude': 54.09999999999998},\n",
       " {'query_id': '79a43b9c-7682-497e-b585-0fdcd36fd108',\n",
       "  'min_latitude': 54.09999999999998,\n",
       "  'max_latitude': 54.39999999999998},\n",
       " {'query_id': 'eb61f75a-934c-45e2-9266-899648e102df',\n",
       "  'min_latitude': 54.39999999999998,\n",
       "  'max_latitude': 54.699999999999974},\n",
       " {'query_id': '1e3863f0-f7cc-4050-b812-985b18f01eb6',\n",
       "  'min_latitude': 54.699999999999974,\n",
       "  'max_latitude': 54.8},\n",
       " {'query_id': '5f36f010-4829-4191-8430-342e2a211a8c',\n",
       "  'min_latitude': 51.349999999999994,\n",
       "  'max_latitude': 51.64999999999999},\n",
       " {'query_id': 'f3d13c39-bd0e-4c88-bc63-c3ea350c4e8a',\n",
       "  'min_latitude': 51.64999999999999,\n",
       "  'max_latitude': 51.94999999999999},\n",
       " {'query_id': 'd5cc0dd5-ebfb-45b5-89c4-05e974eb1b43',\n",
       "  'min_latitude': 51.94999999999999,\n",
       "  'max_latitude': 52.249999999999986},\n",
       " {'query_id': '5505432a-9928-42df-8cbf-0b2e0af50c57',\n",
       "  'min_latitude': 52.249999999999986,\n",
       "  'max_latitude': 52.54999999999998},\n",
       " {'query_id': '003654b0-99e2-4610-9ee2-582a292fafe5',\n",
       "  'min_latitude': 52.54999999999998,\n",
       "  'max_latitude': 52.84999999999998},\n",
       " {'query_id': '2a64cb08-05dc-4628-b227-20041b10ddce',\n",
       "  'min_latitude': 52.84999999999998,\n",
       "  'max_latitude': 53.14999999999998}]"
      ]
     },
     "execution_count": 109,
     "metadata": {},
     "output_type": "execute_result"
    }
   ],
   "source": [
    "query_list"
   ]
  },
  {
   "cell_type": "code",
   "execution_count": 114,
   "metadata": {},
   "outputs": [
    {
     "name": "stdout",
     "output_type": "stream",
     "text": [
      "Checking for completion:\n",
      "Finished: {'query_id': 'e04efd37-0e53-4de4-a20d-22bbea2028b4', 'min_latitude': 51.3, 'max_latitude': 51.55}\n",
      "downloaded (4388760) area_wind_speed_data_bigger['e04e'].csv\n",
      "Checking for completion:\n",
      "Finished: {'query_id': '554cdede-4274-406b-ae79-1316b2894adc', 'min_latitude': 51.55, 'max_latitude': 51.8}\n",
      "downloaded (4309920) area_wind_speed_data_bigger['554c'].csv\n",
      "Checking for completion:\n",
      "Finished: {'query_id': '9f2401c9-614d-4922-b73e-024fbefea181', 'min_latitude': 51.8, 'max_latitude': 52.05}\n"
     ]
    }
   ],
   "source": [
    "def check_for_completed_query(query_info: dict, query_list: list, completed_queries: list) -> bool:\n",
    "    response = get_query_status(query_id, api_key)\n",
    "    try:\n",
    "        response_json = response.json()\n",
    "    except Exception:\n",
    "        print(response.text)\n",
    "        query_list.append(query_info)\n",
    "    else:\n",
    "        if response_json.get(\"currentState\", None) == \"Finished\":\n",
    "            completed_queries.append(query_info)\n",
    "            print(f\"Finished: {query_info}\")\n",
    "            return True\n",
    "        else:\n",
    "            query_list.append(query_info)\n",
    "            if response_json.get(\"currentState\") is not None:\n",
    "                print(f\"{response_json.get('currentState')}: {query_info}\")\n",
    "                return False\n",
    "            else:\n",
    "                print(f\"{response_json}: {query_info}\")\n",
    "                return False\n",
    "\n",
    "completed_queries = []\n",
    "downloaded_queries = []\n",
    "while len(query_list) > 0 or len(completed_queries) > 0:\n",
    "    \n",
    "    if len(completed_queries) == 0:\n",
    "        query_info = query_list.pop(0)\n",
    "        print(\"Checking for completion:\")\n",
    "        if not check_for_completed_query(query_info, query_list, completed_queries):\n",
    "            sleep(60)\n",
    "    else:\n",
    "        query_info = completed_queries.pop(0)\n",
    "        stuff = get_query_result(query_info[\"query_id\"], api_key, 10000000, 1)\n",
    "        try:\n",
    "            stuff = stuff.json()\n",
    "        except Exception:\n",
    "            print(f\"Failed download {query_info}\")\n",
    "            completed_queries.append(query_info)\n",
    "        if len(stuff) == 1:\n",
    "            print(f\"failed download: {query_info}\")\n",
    "            completed_queries.append(query_info)\n",
    "            sleep(60)\n",
    "        else:\n",
    "            df = pd.DataFrame.from_records(stuff, index=range(len(stuff)))\n",
    "            df.to_csv(f\"area_wind_speed_data_bigger{query_info['query_id'][:4]}.csv\", mode=\"a\", index=False)\n",
    "            downloaded_queries.append(query_info)\n",
    "            print(f\"downloaded ({len(stuff)}) area_wind_speed_data_bigger{[query_info['query_id'][:4]]}.csv\")\n",
    "            "
   ]
  },
  {
   "cell_type": "code",
   "execution_count": null,
   "metadata": {},
   "outputs": [],
   "source": []
  }
 ],
 "metadata": {
  "kernelspec": {
   "display_name": "climate",
   "language": "python",
   "name": "python3"
  },
  "language_info": {
   "codemirror_mode": {
    "name": "ipython",
    "version": 3
   },
   "file_extension": ".py",
   "mimetype": "text/x-python",
   "name": "python",
   "nbconvert_exporter": "python",
   "pygments_lexer": "ipython3",
   "version": "3.10.13"
  }
 },
 "nbformat": 4,
 "nbformat_minor": 2
}
