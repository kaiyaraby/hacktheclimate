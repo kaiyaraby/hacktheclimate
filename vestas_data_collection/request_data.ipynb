{
 "cells": [
  {
   "cell_type": "code",
   "execution_count": null,
   "metadata": {},
   "outputs": [],
   "source": [
    "import os\n",
    "from dotenv import load_dotenv\n",
    "from tools.VCL_query_timeseries import timeseries_query\n",
    "from tools.VCL_query_timeseries_area import timeseries_area_query\n",
    "from tools.VCL_get_query_status import get_query_status\n",
    "from tools.VCL_get_query_result import get_query_result\n",
    "from tools.VCL_query_aggregation import construct_aggregation_dict, aggregation_query\n",
    "from json import JSONDecodeError\n",
    "from time import sleep\n",
    "import pandas as pd\n",
    "from pathlib import Path\n",
    "\n",
    "load_dotenv()\n",
    "api_key = os.environ[\"API_SECRET_KEY\"]\n"
   ]
  },
  {
   "cell_type": "markdown",
   "metadata": {},
   "source": [
    "# Area Queries\n",
    "\n",
    "min_longitude = 0.98<br>\n",
    "max_longitude = 4.2<br>\n",
    "latitudes from 51.05 until 54.8\n",
    "\n",
    "min_longitude = -1.5<br>\n",
    "max_longitude = 0.98<br>\n",
    "latitudes from 51.05 until 54.8\n",
    "\n",
    "min_longitude = 4.2<br>\n",
    "max_longitude = 8.2<br>\n",
    "latitudes from 51.05 until 54.8"
   ]
  },
  {
   "cell_type": "markdown",
   "metadata": {},
   "source": [
    "## Make New Area Requests"
   ]
  },
  {
   "cell_type": "code",
   "execution_count": 27,
   "metadata": {},
   "outputs": [
    {
     "name": "stdout",
     "output_type": "stream",
     "text": [
      "min_latitude=52.8, max_latitude=53.05 - {'queryId': '2f2d2044-943c-43fb-88f3-c9b8bd4d14c6'}\n",
      "min_latitude=53.05, max_latitude=53.3 - {'queryId': '4917ea1b-9fa0-46f5-804c-c6486f81489d'}\n",
      "min_latitude=53.3, max_latitude=53.55 - {'queryId': '4e046e09-fea1-492f-8de6-be117eaca341'}\n",
      "min_latitude=53.55, max_latitude=53.8 - {'queryId': 'c6fef295-5114-4e71-bbc2-ce2db06714c4'}\n",
      "min_latitude=53.8, max_latitude=54.05 - {'queryId': '283fa566-5365-4383-a1c0-bf1177878556'}\n",
      "min_latitude=54.05, max_latitude=54.3 - {'queryId': 'b1eb96ba-d0a9-40d4-90ef-ef012f53029a'}\n",
      "min_latitude=54.3, max_latitude=54.55 - {'queryId': '0c77605b-e3b3-4b7e-b823-bfa796b3f42d'}\n"
     ]
    }
   ],
   "source": [
    "###########\n",
    "#### AREA REQUEST\n",
    "##########\n",
    "\n",
    "min_longitude = 0.98\n",
    "max_longitude = 4.2\n",
    "\n",
    "start_date = \"20220101\"\n",
    "end_date = \"20221231\"\n",
    "vars_4d = [\"wsp\",\"rho\"]\n",
    "vars_3d = [\"xland\"]\n",
    "heights = [150]\n",
    "\n",
    "\n",
    "max_step_size = 0.25\n",
    "from_lat = 52.8\n",
    "to_lat = 54.8\n",
    "min_latitude, max_latitude = from_lat, min(to_lat, from_lat + max_step_size)\n",
    "\n",
    "query_list = []\n",
    "\n",
    "while True:\n",
    "    response = timeseries_area_query(min_longitude, max_longitude, min_latitude, max_latitude, start_date, end_date, vars_4d, vars_3d, heights, api_key)\n",
    "    try:\n",
    "        response_json = response.json()\n",
    "    except JSONDecodeError:\n",
    "        print(\"error:\")\n",
    "        print(response.text)\n",
    "    else:\n",
    "        print(f\"{min_latitude=}, {max_latitude=} - {response_json}\")\n",
    "        min_latitude = max_latitude\n",
    "        max_latitude = min(to_lat, max_latitude + max_step_size)\n",
    "        query_list.append({\n",
    "            \"query_id\": response_json[\"queryId\"],\n",
    "            \"min_latitude\": min_latitude,\n",
    "            \"max_latitude\": max_latitude,\n",
    "        })\n",
    "        \n",
    "        \n",
    "    \n",
    "    if max_latitude >= to_lat:\n",
    "        break\n",
    "    sleep(60)\n",
    "\n"
   ]
  },
  {
   "cell_type": "code",
   "execution_count": 28,
   "metadata": {},
   "outputs": [
    {
     "data": {
      "text/plain": [
       "[{'query_id': '2f2d2044-943c-43fb-88f3-c9b8bd4d14c6',\n",
       "  'min_latitude': 53.05,\n",
       "  'max_latitude': 53.3},\n",
       " {'query_id': '4917ea1b-9fa0-46f5-804c-c6486f81489d',\n",
       "  'min_latitude': 53.3,\n",
       "  'max_latitude': 53.55},\n",
       " {'query_id': '4e046e09-fea1-492f-8de6-be117eaca341',\n",
       "  'min_latitude': 53.55,\n",
       "  'max_latitude': 53.8},\n",
       " {'query_id': 'c6fef295-5114-4e71-bbc2-ce2db06714c4',\n",
       "  'min_latitude': 53.8,\n",
       "  'max_latitude': 54.05},\n",
       " {'query_id': '283fa566-5365-4383-a1c0-bf1177878556',\n",
       "  'min_latitude': 54.05,\n",
       "  'max_latitude': 54.3},\n",
       " {'query_id': 'b1eb96ba-d0a9-40d4-90ef-ef012f53029a',\n",
       "  'min_latitude': 54.3,\n",
       "  'max_latitude': 54.55},\n",
       " {'query_id': '0c77605b-e3b3-4b7e-b823-bfa796b3f42d',\n",
       "  'min_latitude': 54.55,\n",
       "  'max_latitude': 54.8}]"
      ]
     },
     "execution_count": 28,
     "metadata": {},
     "output_type": "execute_result"
    }
   ],
   "source": [
    "query_list"
   ]
  },
  {
   "cell_type": "markdown",
   "metadata": {},
   "source": [
    "## Check Query Status and download completed"
   ]
  },
  {
   "cell_type": "code",
   "execution_count": 29,
   "metadata": {},
   "outputs": [
    {
     "name": "stdout",
     "output_type": "stream",
     "text": [
      "Checking for completion:\n",
      "Running: {'query_id': '2f2d2044-943c-43fb-88f3-c9b8bd4d14c6', 'min_latitude': 53.05, 'max_latitude': 53.3}\n",
      "Checking for completion:\n",
      "Finished: {'query_id': '4917ea1b-9fa0-46f5-804c-c6486f81489d', 'min_latitude': 53.3, 'max_latitude': 53.55}\n",
      "staring download for 4917ea1b-9fa0-46f5-804c-c6486f81489d\n",
      "downloaded (5641440) area_wind_speed_data_bigger['4917'].csv\n",
      "Checking for completion:\n",
      "Running: {'query_id': '4e046e09-fea1-492f-8de6-be117eaca341', 'min_latitude': 53.55, 'max_latitude': 53.8}\n",
      "Checking for completion:\n",
      "Running: {'query_id': 'c6fef295-5114-4e71-bbc2-ce2db06714c4', 'min_latitude': 53.8, 'max_latitude': 54.05}\n",
      "Checking for completion:\n",
      "Running: {'query_id': '283fa566-5365-4383-a1c0-bf1177878556', 'min_latitude': 54.05, 'max_latitude': 54.3}\n",
      "Checking for completion:\n",
      "Finished: {'query_id': 'b1eb96ba-d0a9-40d4-90ef-ef012f53029a', 'min_latitude': 54.3, 'max_latitude': 54.55}\n",
      "staring download for b1eb96ba-d0a9-40d4-90ef-ef012f53029a\n",
      "downloaded (5510040) area_wind_speed_data_bigger['b1eb'].csv\n",
      "Checking for completion:\n",
      "Running: {'query_id': '0c77605b-e3b3-4b7e-b823-bfa796b3f42d', 'min_latitude': 54.55, 'max_latitude': 54.8}\n",
      "Checking for completion:\n",
      "Finished: {'query_id': '2f2d2044-943c-43fb-88f3-c9b8bd4d14c6', 'min_latitude': 53.05, 'max_latitude': 53.3}\n",
      "staring download for 2f2d2044-943c-43fb-88f3-c9b8bd4d14c6\n",
      "downloaded (5667720) area_wind_speed_data_bigger['2f2d'].csv\n",
      "Checking for completion:\n",
      "Finished: {'query_id': '4e046e09-fea1-492f-8de6-be117eaca341', 'min_latitude': 53.55, 'max_latitude': 53.8}\n",
      "staring download for 4e046e09-fea1-492f-8de6-be117eaca341\n",
      "downloaded (5615160) area_wind_speed_data_bigger['4e04'].csv\n",
      "Checking for completion:\n",
      "Finished: {'query_id': 'c6fef295-5114-4e71-bbc2-ce2db06714c4', 'min_latitude': 53.8, 'max_latitude': 54.05}\n",
      "staring download for c6fef295-5114-4e71-bbc2-ce2db06714c4\n",
      "downloaded (5580120) area_wind_speed_data_bigger['c6fe'].csv\n",
      "Checking for completion:\n",
      "Finished: {'query_id': '283fa566-5365-4383-a1c0-bf1177878556', 'min_latitude': 54.05, 'max_latitude': 54.3}\n",
      "staring download for 283fa566-5365-4383-a1c0-bf1177878556\n",
      "downloaded (5562600) area_wind_speed_data_bigger['283f'].csv\n",
      "Checking for completion:\n",
      "Finished: {'query_id': '0c77605b-e3b3-4b7e-b823-bfa796b3f42d', 'min_latitude': 54.55, 'max_latitude': 54.8}\n",
      "staring download for 0c77605b-e3b3-4b7e-b823-bfa796b3f42d\n",
      "downloaded (5510040) area_wind_speed_data_bigger['0c77'].csv\n"
     ]
    }
   ],
   "source": [
    "def check_for_completed_query(query_info: dict, query_list: list, completed_queries: list) -> bool:\n",
    "    response = get_query_status(query_info[\"query_id\"], api_key)\n",
    "    try:\n",
    "        response_json = response.json()\n",
    "    except Exception:\n",
    "        print(response.text)\n",
    "        query_list.append(query_info)\n",
    "    else:\n",
    "        if response_json.get(\"currentState\", None) == \"Finished\":\n",
    "            completed_queries.append(query_info)\n",
    "            print(f\"Finished: {query_info}\")\n",
    "            return True\n",
    "        else:\n",
    "            query_list.append(query_info)\n",
    "            if response_json.get(\"currentState\") is not None:\n",
    "                print(f\"{response_json.get('currentState')}: {query_info}\")\n",
    "                return False\n",
    "            else:\n",
    "                print(f\"{response_json}: {query_info}\")\n",
    "                return False\n",
    "\n",
    "completed_queries = []\n",
    "downloaded_queries = []\n",
    "while len(query_list) > 0 or len(completed_queries) > 0:\n",
    "    \n",
    "    if len(completed_queries) == 0:\n",
    "        query_info = query_list.pop(0)\n",
    "        print(\"Checking for completion:\")\n",
    "        if not check_for_completed_query(query_info, query_list, completed_queries):\n",
    "            sleep(60)\n",
    "    else:\n",
    "        query_info = completed_queries.pop(0)\n",
    "        print(f\"staring download for {query_info['query_id']}\")\n",
    "        stuff = get_query_result(query_info[\"query_id\"], api_key, 10000000, 1)\n",
    "        try:\n",
    "            stuff = stuff.json()\n",
    "        except Exception:\n",
    "            print(f\"Failed download {query_info}\")\n",
    "            completed_queries.append(query_info)\n",
    "        if len(stuff) == 1:\n",
    "            print(f\"failed download: {query_info}\")\n",
    "            completed_queries.append(query_info)\n",
    "            sleep(60)\n",
    "        else:\n",
    "            df = pd.DataFrame.from_records(stuff, index=range(len(stuff)))\n",
    "            df.to_csv(f\"area_wind_speed_data_bigger{query_info['query_id'][:4]}.csv\", mode=\"a\", index=False)\n",
    "            downloaded_queries.append(query_info)\n",
    "            print(f\"downloaded ({len(stuff)}) area_wind_speed_data_bigger{[query_info['query_id'][:4]]}.csv\")\n",
    "            "
   ]
  },
  {
   "cell_type": "markdown",
   "metadata": {},
   "source": [
    "## Combine Downloaded CSVs and Compress"
   ]
  },
  {
   "cell_type": "code",
   "execution_count": null,
   "metadata": {},
   "outputs": [],
   "source": [
    "paths = [path for path in Path().glob(\"area_wind_speed_data*.csv\")]\n",
    "frames = [pd.read_csv(path) for path in paths]\n",
    "\n",
    "df = pd.concat(frames)\n",
    "\n",
    "filename = 'area_wind_speed.csv'\n",
    "compression_options = dict(method='zip', archive_name=f'{filename}')\n",
    "df.to_csv(f\"input_data/timeseries_area_wind_speed/{filename}.zip\", compression=compression_options, index=False)"
   ]
  },
  {
   "cell_type": "markdown",
   "metadata": {},
   "source": [
    "# Other Query Types (Single Point & Aggregation)"
   ]
  },
  {
   "cell_type": "code",
   "execution_count": 5,
   "metadata": {},
   "outputs": [
    {
     "name": "stdout",
     "output_type": "stream",
     "text": [
      "Aggregation Query: \n",
      "Timeseries Area Query: \n",
      "{'queryId': '1ad06c41-c651-4919-8750-7ab159018207'}\n"
     ]
    }
   ],
   "source": [
    "### AGGREGATION QUERY\n",
    "min_longitude = -4.4454\n",
    "max_longitude = 12.0059\n",
    "min_latitude = 53.9954\n",
    "max_latitude = 56.9954\n",
    "start_date = \"20120101\"\n",
    "end_date = \"20121231\"\n",
    "agg_functions = [\"AVG\", \"MAX\", \"MIN\", \"SD\"] # At least one function is required\n",
    "\n",
    "vars_3d = [\"xland\"]\n",
    "vars_4d = [\"wsp\"]\n",
    "heights = [150] \n",
    "aggregation = construct_aggregation_dict(agg_functions, vars_3d, vars_4d, heights)\n",
    "\n",
    "response = aggregation_query(min_longitude, max_longitude, min_latitude, max_latitude, start_date, end_date, aggregation, api_key)\n",
    "print(\"Aggregation Query: \")\n",
    "try:\n",
    "    response_json = response.json()\n",
    "    print(response_json)\n",
    "except JSONDecodeError:\n",
    "    print(\"error:\", end=\"\\t\")\n",
    "    print(response.text)"
   ]
  },
  {
   "cell_type": "code",
   "execution_count": null,
   "metadata": {},
   "outputs": [],
   "source": [
    "# 2022\n",
    "# min_latitude = 50.9954, max_latitude = 53.9954\n",
    "# {'queryId': '6a117fc4-030a-4584-8a3b-485d28f520ee'}\n",
    "# min_latitude = 53.9954, max_latitude = 56.9954\n",
    "# {'queryId': 'fee7d638-2254-412f-9cd0-60a9576c184a'}\n",
    "\n",
    "# 2012\n",
    "# min_latitude = 50.9954, max_latitude = 53.9954\n",
    "# {'queryId': '0fcc4e59-bf75-4cd0-a52c-2ed46ddad3a0'}\n",
    "# min_latitude = 53.9954, max_latitude = 56.9954\n",
    "# {'queryId': '1ad06c41-c651-4919-8750-7ab159018207'}"
   ]
  },
  {
   "cell_type": "code",
   "execution_count": 23,
   "metadata": {},
   "outputs": [
    {
     "name": "stdout",
     "output_type": "stream",
     "text": [
      "Point Query: \n",
      "{'queryId': 'b90b21cd-2035-4148-a359-99a867988a3f'}\n"
     ]
    }
   ],
   "source": [
    "###########\n",
    "#### POINT REQUEST\n",
    "##########\n",
    "\n",
    "latitude = 53.62\n",
    "longitude = 4.42\n",
    "start_date = \"2012-01-01\"\n",
    "end_date = \"2022-12-31\"\n",
    "vars_4d = [\"wsp\",\"wdir\", \"rho\"] # Can be empty []\n",
    "vars_3d = [\"xland\"]\n",
    "heights = [150] # Must not be empty if vars_4d is not empty\n",
    "\n",
    "\n",
    "response = timeseries_query(latitude, longitude, start_date, end_date, vars_4d, vars_3d, heights, api_key)\n",
    "try:\n",
    "    response_json = response.json()\n",
    "    query_id = response_json[\"queryId\"]\n",
    "    print(\"Point Query: \")\n",
    "    print(response_json)\n",
    "except JSONDecodeError:\n",
    "    print(\"error:\")\n",
    "    print(response.text)"
   ]
  }
 ],
 "metadata": {
  "kernelspec": {
   "display_name": "climate",
   "language": "python",
   "name": "python3"
  },
  "language_info": {
   "codemirror_mode": {
    "name": "ipython",
    "version": 3
   },
   "file_extension": ".py",
   "mimetype": "text/x-python",
   "name": "python",
   "nbconvert_exporter": "python",
   "pygments_lexer": "ipython3",
   "version": "3.10.13"
  }
 },
 "nbformat": 4,
 "nbformat_minor": 2
}
