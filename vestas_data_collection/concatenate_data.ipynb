{
 "cells": [
  {
   "cell_type": "code",
   "execution_count": 7,
   "metadata": {},
   "outputs": [
    {
     "data": {
      "text/plain": [
       "timestamp    94800720\n",
       "xlat         94800720\n",
       "xlong        94800720\n",
       "dx           94800720\n",
       "xland        94800720\n",
       "rho_150.0    94800720\n",
       "wsp_150.0    94800720\n",
       "dtype: int64"
      ]
     },
     "execution_count": 7,
     "metadata": {},
     "output_type": "execute_result"
    }
   ],
   "source": [
    "import pandas as pd\n",
    "from pathlib import Path\n",
    "paths = [path for path in Path().glob(\"area_wind_speed_data*.csv\")]\n",
    "frames = [pd.read_csv(path) for path in paths]\n",
    "\n",
    "df = pd.concat(frames)\n",
    "df.count()"
   ]
  },
  {
   "cell_type": "code",
   "execution_count": 8,
   "metadata": {},
   "outputs": [],
   "source": [
    "filename = 'area_wind_speed3.csv'\n",
    "compression_options = dict(method='zip', archive_name=f'{filename}')\n",
    "df.to_csv(f\"input_data/timeseries_area_wind_speed/{filename}.zip\", compression=compression_options, index=False)"
   ]
  }
 ],
 "metadata": {
  "kernelspec": {
   "display_name": "climate",
   "language": "python",
   "name": "python3"
  },
  "language_info": {
   "codemirror_mode": {
    "name": "ipython",
    "version": 3
   },
   "file_extension": ".py",
   "mimetype": "text/x-python",
   "name": "python",
   "nbconvert_exporter": "python",
   "pygments_lexer": "ipython3",
   "version": "3.10.13"
  }
 },
 "nbformat": 4,
 "nbformat_minor": 2
}
